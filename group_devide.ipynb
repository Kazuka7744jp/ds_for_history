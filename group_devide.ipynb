{
 "cells": [
  {
   "cell_type": "markdown",
   "metadata": {},
   "source": [
    "## 名字と部署を避けてグループ分けするためのコード"
   ]
  },
  {
   "cell_type": "code",
   "execution_count": 1,
   "metadata": {},
   "outputs": [],
   "source": [
    "import math\n",
    "import random\n",
    "import re\n",
    "import pandas as pd"
   ]
  },
  {
   "cell_type": "code",
   "execution_count": 2,
   "metadata": {},
   "outputs": [],
   "source": [
    "# 人のデータを格納するリスト"
   ]
  },
  {
   "cell_type": "code",
   "execution_count": 3,
   "metadata": {},
   "outputs": [],
   "source": [
    "# df = pd.read_excel(\"ad.xlsx\", encoding=\"cp932\")"
   ]
  },
  {
   "cell_type": "code",
   "execution_count": 4,
   "metadata": {},
   "outputs": [],
   "source": [
    "df = pd.DataFrame({\"氏名\":[\"田中　太郎\", \"田中　小太郎\", \"伊藤　義人\", \"鈴木　健太\", \"鈴木　太郎\", \"清水　洋子\", \"高橋　富士夫\", \"佐藤　まさお\"],\n",
    "                   \"本来所属 部\":[\"田原工場成形部\",\"人事部\",\"総務部\",\"人事部\",\"田原工場成形部\",\"元町工場車体部\",\"元町工場組み立て部\",\"元町工場成形部\"],\n",
    "                   \"希望\":[\"\",\"\",\"2コース希望\",\"\",\"\",\"\",\"\",\"1コース希望\"]})"
   ]
  },
  {
   "cell_type": "code",
   "execution_count": 5,
   "metadata": {},
   "outputs": [],
   "source": [
    "df['工場'] = df['本来所属 部'].str.extract(r'(.*工場)')"
   ]
  },
  {
   "cell_type": "code",
   "execution_count": 6,
   "metadata": {},
   "outputs": [
    {
     "data": {
      "text/plain": [
       "0    田原工場\n",
       "1     NaN\n",
       "2     NaN\n",
       "3     NaN\n",
       "4    田原工場\n",
       "5    元町工場\n",
       "6    元町工場\n",
       "7    元町工場\n",
       "Name: 工場, dtype: object"
      ]
     },
     "execution_count": 6,
     "metadata": {},
     "output_type": "execute_result"
    }
   ],
   "source": [
    "df[\"工場\"]"
   ]
  },
  {
   "cell_type": "code",
   "execution_count": 7,
   "metadata": {},
   "outputs": [],
   "source": [
    "def evenly_distribute_people(total_people, group_num):\n",
    "    \"\"\"\n",
    "    Divide total_people into group_num groups as evenly as possible\n",
    "    \"\"\"\n",
    "    people_per_group = math.floor(total_people / group_num)\n",
    "    remainder = total_people % group_num\n",
    "    group_sizes = {}\n",
    "    for i in range(1, group_num + 1):\n",
    "        group_sizes[str(i)] = people_per_group\n",
    "    for i in range(remainder):\n",
    "        group_sizes[str(i+1)] += 1\n",
    "    return group_sizes"
   ]
  },
  {
   "cell_type": "code",
   "execution_count": 8,
   "metadata": {},
   "outputs": [],
   "source": [
    "group_num = 2"
   ]
  },
  {
   "cell_type": "code",
   "execution_count": 9,
   "metadata": {},
   "outputs": [
    {
     "data": {
      "text/plain": [
       "{'1': 4, '2': 4}"
      ]
     },
     "execution_count": 9,
     "metadata": {},
     "output_type": "execute_result"
    }
   ],
   "source": [
    "group_dict = evenly_distribute_people(len(df), group_num)\n",
    "group_dict"
   ]
  },
  {
   "cell_type": "code",
   "execution_count": 10,
   "metadata": {},
   "outputs": [],
   "source": [
    "def convert_group(group):\n",
    "    match = re.match(r\"(\\d+)コース希望\", str(group))\n",
    "    if match:\n",
    "        group_dict[str(match.group(1))] -= 1\n",
    "        return str(match.group(1))\n",
    "    \n",
    "    else:\n",
    "        return \"希望なし\"\n",
    "\n",
    "df[\"希望\"] = df[\"希望\"].apply(convert_group)"
   ]
  },
  {
   "cell_type": "code",
   "execution_count": 11,
   "metadata": {},
   "outputs": [
    {
     "data": {
      "text/plain": [
       "0    希望なし\n",
       "1    希望なし\n",
       "2       2\n",
       "3    希望なし\n",
       "4    希望なし\n",
       "5    希望なし\n",
       "6    希望なし\n",
       "7       1\n",
       "Name: 希望, dtype: object"
      ]
     },
     "execution_count": 11,
     "metadata": {},
     "output_type": "execute_result"
    }
   ],
   "source": [
    "df[\"希望\"]"
   ]
  },
  {
   "cell_type": "code",
   "execution_count": 12,
   "metadata": {},
   "outputs": [
    {
     "data": {
      "text/plain": [
       "{'1': 3, '2': 3}"
      ]
     },
     "execution_count": 12,
     "metadata": {},
     "output_type": "execute_result"
    }
   ],
   "source": [
    "group_dict"
   ]
  },
  {
   "cell_type": "code",
   "execution_count": 13,
   "metadata": {},
   "outputs": [],
   "source": [
    "df['名字'] = df['氏名'].str.replace('　', ' ').str.split(' ', expand=True)[0]"
   ]
  },
  {
   "cell_type": "code",
   "execution_count": 14,
   "metadata": {},
   "outputs": [],
   "source": [
    "def compare_dicts(dict1, dict2):\n",
    "    result = True\n",
    "    for key in dict1.keys():\n",
    "        if key in dict2.keys():\n",
    "            if abs(dict1[key] - dict2[key]) >= 2:\n",
    "                result = False\n",
    "                break\n",
    "    return result"
   ]
  },
  {
   "cell_type": "code",
   "execution_count": 15,
   "metadata": {},
   "outputs": [],
   "source": [
    "df_count = df.groupby(['名字']).size().reset_index(name='counts')\n",
    "max_count = df_count['counts'].max()\n",
    "if max_count > group_num:\n",
    "    print(\"グループの数以上に、同性がいるため、現状の関数では、うまくグループ分けできません\")"
   ]
  },
  {
   "cell_type": "code",
   "execution_count": 16,
   "metadata": {},
   "outputs": [],
   "source": [
    "df_count = df.groupby(['本来所属 部']).size().reset_index(name='counts')\n",
    "max_count = df_count['counts'].max()\n",
    "if max_count > group_num:\n",
    "    print(\"グループの数以上に、同じ部署がいるため、現状の関数では、うまくグループ分けできません\")"
   ]
  },
  {
   "cell_type": "code",
   "execution_count": 17,
   "metadata": {},
   "outputs": [],
   "source": [
    "import pandas as pd\n",
    "from random import shuffle\n",
    "\n",
    "def group_request_assign(df, group_num, group_dict):\n",
    "    # Step 1: Create a new column 'group' and initialize it with 'None'\n",
    "    df['group'] = '個別判断'\n",
    "    # Step 2: Sort the dataframe by '希望' column and assign groups to people with preferences first\n",
    "    df = df.sort_values(by='希望')\n",
    "    for i in range(len(df)):\n",
    "        if df.iloc[i]['希望'] != \"希望なし\":\n",
    "            df.at[df.index[i], 'group'] = df.iloc[i]['希望']\n",
    "    df_for_repeat = df.copy()\n",
    "    group_dict_for_repeat = group_dict.copy()\n",
    "    result = False\n",
    "    count = 0\n",
    "    group_list = [str(i+1) for i in range(group_num)]\n",
    "    while not result and count < 300:\n",
    "        group_dict_for_group = group_dict_for_repeat.copy()\n",
    "        df_for_group = df_for_repeat.copy()\n",
    "        df_for_group = df_for_group.sample(frac=1)\n",
    "    # Step 4: Assign groups to people without preferences, while avoiding same surname and department     \n",
    "        for i in range(len(df)):\n",
    "            if df_for_group.iloc[i]['group'] == '個別判断':\n",
    "                for j in group_list:\n",
    "                    if group_dict_for_group[j] == 0:\n",
    "                        continue\n",
    "                    same_surname = df_for_group[(df_for_group['group'] == j) & (df_for_group['名字'] == df_for_group.iloc[i]['名字'])]\n",
    "                    same_department = df_for_group[(df_for_group['group'] == j) & (df_for_group['本来所属 部'] == df_for_group.iloc[i]['本来所属 部'])]\n",
    "                    if len(same_surname) == 0 and len(same_department) == 0:\n",
    "#                         print(\"!\")\n",
    "                        df_for_group.at[df_for_group.index[i], 'group'] = j\n",
    "                        group_dict_for_group[j] -= 1\n",
    "                        break\n",
    "            print(\"\\n\")\n",
    "            print(f\"<{count+1}回目>\")\n",
    "            print(df_for_group)\n",
    "            count += 1\n",
    "            if \"個別判断\" not in df_for_group[\"group\"].unique():\n",
    "                grouped_df = df_for_group.groupby(\"group\")\n",
    "                print(\"\\n\")\n",
    "                print(\"参考\")\n",
    "                for name, group in grouped_df:    \n",
    "                    print(f\"{name}グループの工場\")\n",
    "                    counts = group[\"工場\"].value_counts()\n",
    "                    for index, value in counts.items():\n",
    "                        print(index,value)\n",
    "                        result = True\n",
    "        \n",
    "    return df_for_group       "
   ]
  },
  {
   "cell_type": "code",
   "execution_count": 18,
   "metadata": {},
   "outputs": [
    {
     "name": "stdout",
     "output_type": "stream",
     "text": [
      "\n",
      "\n",
      "<1回目>\n",
      "       氏名     本来所属 部    希望    工場  名字 group\n",
      "4   鈴木　太郎    田原工場成形部  希望なし  田原工場  鈴木     1\n",
      "2   伊藤　義人        総務部     2   NaN  伊藤     2\n",
      "5   清水　洋子    元町工場車体部  希望なし  元町工場  清水  個別判断\n",
      "7  佐藤　まさお    元町工場成形部     1  元町工場  佐藤     1\n",
      "1  田中　小太郎        人事部  希望なし   NaN  田中  個別判断\n",
      "3   鈴木　健太        人事部  希望なし   NaN  鈴木  個別判断\n",
      "6  高橋　富士夫  元町工場組み立て部  希望なし  元町工場  高橋  個別判断\n",
      "0   田中　太郎    田原工場成形部  希望なし  田原工場  田中  個別判断\n",
      "\n",
      "\n",
      "<2回目>\n",
      "       氏名     本来所属 部    希望    工場  名字 group\n",
      "4   鈴木　太郎    田原工場成形部  希望なし  田原工場  鈴木     1\n",
      "2   伊藤　義人        総務部     2   NaN  伊藤     2\n",
      "5   清水　洋子    元町工場車体部  希望なし  元町工場  清水  個別判断\n",
      "7  佐藤　まさお    元町工場成形部     1  元町工場  佐藤     1\n",
      "1  田中　小太郎        人事部  希望なし   NaN  田中  個別判断\n",
      "3   鈴木　健太        人事部  希望なし   NaN  鈴木  個別判断\n",
      "6  高橋　富士夫  元町工場組み立て部  希望なし  元町工場  高橋  個別判断\n",
      "0   田中　太郎    田原工場成形部  希望なし  田原工場  田中  個別判断\n",
      "\n",
      "\n",
      "<3回目>\n",
      "       氏名     本来所属 部    希望    工場  名字 group\n",
      "4   鈴木　太郎    田原工場成形部  希望なし  田原工場  鈴木     1\n",
      "2   伊藤　義人        総務部     2   NaN  伊藤     2\n",
      "5   清水　洋子    元町工場車体部  希望なし  元町工場  清水     1\n",
      "7  佐藤　まさお    元町工場成形部     1  元町工場  佐藤     1\n",
      "1  田中　小太郎        人事部  希望なし   NaN  田中  個別判断\n",
      "3   鈴木　健太        人事部  希望なし   NaN  鈴木  個別判断\n",
      "6  高橋　富士夫  元町工場組み立て部  希望なし  元町工場  高橋  個別判断\n",
      "0   田中　太郎    田原工場成形部  希望なし  田原工場  田中  個別判断\n",
      "\n",
      "\n",
      "<4回目>\n",
      "       氏名     本来所属 部    希望    工場  名字 group\n",
      "4   鈴木　太郎    田原工場成形部  希望なし  田原工場  鈴木     1\n",
      "2   伊藤　義人        総務部     2   NaN  伊藤     2\n",
      "5   清水　洋子    元町工場車体部  希望なし  元町工場  清水     1\n",
      "7  佐藤　まさお    元町工場成形部     1  元町工場  佐藤     1\n",
      "1  田中　小太郎        人事部  希望なし   NaN  田中  個別判断\n",
      "3   鈴木　健太        人事部  希望なし   NaN  鈴木  個別判断\n",
      "6  高橋　富士夫  元町工場組み立て部  希望なし  元町工場  高橋  個別判断\n",
      "0   田中　太郎    田原工場成形部  希望なし  田原工場  田中  個別判断\n",
      "\n",
      "\n",
      "<5回目>\n",
      "       氏名     本来所属 部    希望    工場  名字 group\n",
      "4   鈴木　太郎    田原工場成形部  希望なし  田原工場  鈴木     1\n",
      "2   伊藤　義人        総務部     2   NaN  伊藤     2\n",
      "5   清水　洋子    元町工場車体部  希望なし  元町工場  清水     1\n",
      "7  佐藤　まさお    元町工場成形部     1  元町工場  佐藤     1\n",
      "1  田中　小太郎        人事部  希望なし   NaN  田中     1\n",
      "3   鈴木　健太        人事部  希望なし   NaN  鈴木  個別判断\n",
      "6  高橋　富士夫  元町工場組み立て部  希望なし  元町工場  高橋  個別判断\n",
      "0   田中　太郎    田原工場成形部  希望なし  田原工場  田中  個別判断\n",
      "\n",
      "\n",
      "<6回目>\n",
      "       氏名     本来所属 部    希望    工場  名字 group\n",
      "4   鈴木　太郎    田原工場成形部  希望なし  田原工場  鈴木     1\n",
      "2   伊藤　義人        総務部     2   NaN  伊藤     2\n",
      "5   清水　洋子    元町工場車体部  希望なし  元町工場  清水     1\n",
      "7  佐藤　まさお    元町工場成形部     1  元町工場  佐藤     1\n",
      "1  田中　小太郎        人事部  希望なし   NaN  田中     1\n",
      "3   鈴木　健太        人事部  希望なし   NaN  鈴木     2\n",
      "6  高橋　富士夫  元町工場組み立て部  希望なし  元町工場  高橋  個別判断\n",
      "0   田中　太郎    田原工場成形部  希望なし  田原工場  田中  個別判断\n",
      "\n",
      "\n",
      "<7回目>\n",
      "       氏名     本来所属 部    希望    工場  名字 group\n",
      "4   鈴木　太郎    田原工場成形部  希望なし  田原工場  鈴木     1\n",
      "2   伊藤　義人        総務部     2   NaN  伊藤     2\n",
      "5   清水　洋子    元町工場車体部  希望なし  元町工場  清水     1\n",
      "7  佐藤　まさお    元町工場成形部     1  元町工場  佐藤     1\n",
      "1  田中　小太郎        人事部  希望なし   NaN  田中     1\n",
      "3   鈴木　健太        人事部  希望なし   NaN  鈴木     2\n",
      "6  高橋　富士夫  元町工場組み立て部  希望なし  元町工場  高橋     2\n",
      "0   田中　太郎    田原工場成形部  希望なし  田原工場  田中  個別判断\n",
      "\n",
      "\n",
      "<8回目>\n",
      "       氏名     本来所属 部    希望    工場  名字 group\n",
      "4   鈴木　太郎    田原工場成形部  希望なし  田原工場  鈴木     1\n",
      "2   伊藤　義人        総務部     2   NaN  伊藤     2\n",
      "5   清水　洋子    元町工場車体部  希望なし  元町工場  清水     1\n",
      "7  佐藤　まさお    元町工場成形部     1  元町工場  佐藤     1\n",
      "1  田中　小太郎        人事部  希望なし   NaN  田中     1\n",
      "3   鈴木　健太        人事部  希望なし   NaN  鈴木     2\n",
      "6  高橋　富士夫  元町工場組み立て部  希望なし  元町工場  高橋     2\n",
      "0   田中　太郎    田原工場成形部  希望なし  田原工場  田中     2\n",
      "\n",
      "\n",
      "参考\n",
      "1グループの工場\n",
      "元町工場 2\n",
      "田原工場 1\n",
      "2グループの工場\n",
      "田原工場 1\n",
      "元町工場 1\n"
     ]
    },
    {
     "data": {
      "text/html": [
       "<div>\n",
       "<style scoped>\n",
       "    .dataframe tbody tr th:only-of-type {\n",
       "        vertical-align: middle;\n",
       "    }\n",
       "\n",
       "    .dataframe tbody tr th {\n",
       "        vertical-align: top;\n",
       "    }\n",
       "\n",
       "    .dataframe thead th {\n",
       "        text-align: right;\n",
       "    }\n",
       "</style>\n",
       "<table border=\"1\" class=\"dataframe\">\n",
       "  <thead>\n",
       "    <tr style=\"text-align: right;\">\n",
       "      <th></th>\n",
       "      <th>氏名</th>\n",
       "      <th>本来所属 部</th>\n",
       "      <th>希望</th>\n",
       "      <th>工場</th>\n",
       "      <th>名字</th>\n",
       "      <th>group</th>\n",
       "    </tr>\n",
       "  </thead>\n",
       "  <tbody>\n",
       "    <tr>\n",
       "      <th>4</th>\n",
       "      <td>鈴木　太郎</td>\n",
       "      <td>田原工場成形部</td>\n",
       "      <td>希望なし</td>\n",
       "      <td>田原工場</td>\n",
       "      <td>鈴木</td>\n",
       "      <td>1</td>\n",
       "    </tr>\n",
       "    <tr>\n",
       "      <th>2</th>\n",
       "      <td>伊藤　義人</td>\n",
       "      <td>総務部</td>\n",
       "      <td>2</td>\n",
       "      <td>NaN</td>\n",
       "      <td>伊藤</td>\n",
       "      <td>2</td>\n",
       "    </tr>\n",
       "    <tr>\n",
       "      <th>5</th>\n",
       "      <td>清水　洋子</td>\n",
       "      <td>元町工場車体部</td>\n",
       "      <td>希望なし</td>\n",
       "      <td>元町工場</td>\n",
       "      <td>清水</td>\n",
       "      <td>1</td>\n",
       "    </tr>\n",
       "    <tr>\n",
       "      <th>7</th>\n",
       "      <td>佐藤　まさお</td>\n",
       "      <td>元町工場成形部</td>\n",
       "      <td>1</td>\n",
       "      <td>元町工場</td>\n",
       "      <td>佐藤</td>\n",
       "      <td>1</td>\n",
       "    </tr>\n",
       "    <tr>\n",
       "      <th>1</th>\n",
       "      <td>田中　小太郎</td>\n",
       "      <td>人事部</td>\n",
       "      <td>希望なし</td>\n",
       "      <td>NaN</td>\n",
       "      <td>田中</td>\n",
       "      <td>1</td>\n",
       "    </tr>\n",
       "    <tr>\n",
       "      <th>3</th>\n",
       "      <td>鈴木　健太</td>\n",
       "      <td>人事部</td>\n",
       "      <td>希望なし</td>\n",
       "      <td>NaN</td>\n",
       "      <td>鈴木</td>\n",
       "      <td>2</td>\n",
       "    </tr>\n",
       "    <tr>\n",
       "      <th>6</th>\n",
       "      <td>高橋　富士夫</td>\n",
       "      <td>元町工場組み立て部</td>\n",
       "      <td>希望なし</td>\n",
       "      <td>元町工場</td>\n",
       "      <td>高橋</td>\n",
       "      <td>2</td>\n",
       "    </tr>\n",
       "    <tr>\n",
       "      <th>0</th>\n",
       "      <td>田中　太郎</td>\n",
       "      <td>田原工場成形部</td>\n",
       "      <td>希望なし</td>\n",
       "      <td>田原工場</td>\n",
       "      <td>田中</td>\n",
       "      <td>2</td>\n",
       "    </tr>\n",
       "  </tbody>\n",
       "</table>\n",
       "</div>"
      ],
      "text/plain": [
       "       氏名     本来所属 部    希望    工場  名字 group\n",
       "4   鈴木　太郎    田原工場成形部  希望なし  田原工場  鈴木     1\n",
       "2   伊藤　義人        総務部     2   NaN  伊藤     2\n",
       "5   清水　洋子    元町工場車体部  希望なし  元町工場  清水     1\n",
       "7  佐藤　まさお    元町工場成形部     1  元町工場  佐藤     1\n",
       "1  田中　小太郎        人事部  希望なし   NaN  田中     1\n",
       "3   鈴木　健太        人事部  希望なし   NaN  鈴木     2\n",
       "6  高橋　富士夫  元町工場組み立て部  希望なし  元町工場  高橋     2\n",
       "0   田中　太郎    田原工場成形部  希望なし  田原工場  田中     2"
      ]
     },
     "execution_count": 18,
     "metadata": {},
     "output_type": "execute_result"
    }
   ],
   "source": [
    "group_request_assign(df, 2, group_dict)"
   ]
  }
 ],
 "metadata": {
  "kernelspec": {
   "display_name": "Python 3",
   "language": "python",
   "name": "python3"
  },
  "language_info": {
   "codemirror_mode": {
    "name": "ipython",
    "version": 3
   },
   "file_extension": ".py",
   "mimetype": "text/x-python",
   "name": "python",
   "nbconvert_exporter": "python",
   "pygments_lexer": "ipython3",
   "version": "3.7.6"
  }
 },
 "nbformat": 4,
 "nbformat_minor": 4
}
