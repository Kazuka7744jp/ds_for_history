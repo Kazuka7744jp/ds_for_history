{
 "cells": [
  {
   "cell_type": "code",
   "execution_count": 1,
   "metadata": {},
   "outputs": [
    {
     "name": "stdout",
     "output_type": "stream",
     "text": [
      "Requirement already satisfied: streamlit in /opt/anaconda3/lib/python3.7/site-packages (1.15.0)\n",
      "Requirement already satisfied: packaging>=14.1 in /opt/anaconda3/lib/python3.7/site-packages (from streamlit) (20.1)\n",
      "Requirement already satisfied: toml in /opt/anaconda3/lib/python3.7/site-packages (from streamlit) (0.10.2)\n",
      "Requirement already satisfied: pympler>=0.9 in /opt/anaconda3/lib/python3.7/site-packages (from streamlit) (1.0.1)\n",
      "Requirement already satisfied: requests>=2.4 in /opt/anaconda3/lib/python3.7/site-packages (from streamlit) (2.22.0)\n",
      "Requirement already satisfied: validators>=0.2 in /opt/anaconda3/lib/python3.7/site-packages (from streamlit) (0.20.0)\n",
      "Requirement already satisfied: typing-extensions>=3.10.0.0 in /opt/anaconda3/lib/python3.7/site-packages (from streamlit) (4.4.0)\n",
      "Requirement already satisfied: numpy in /opt/anaconda3/lib/python3.7/site-packages (from streamlit) (1.18.1)\n",
      "Requirement already satisfied: watchdog; platform_system != \"Darwin\" in /opt/anaconda3/lib/python3.7/site-packages (from streamlit) (0.10.2)\n",
      "Requirement already satisfied: cachetools>=4.0 in /opt/anaconda3/lib/python3.7/site-packages (from streamlit) (5.2.0)\n",
      "Requirement already satisfied: altair>=3.2.0 in /opt/anaconda3/lib/python3.7/site-packages (from streamlit) (4.2.0)\n",
      "Requirement already satisfied: semver in /opt/anaconda3/lib/python3.7/site-packages (from streamlit) (2.13.0)\n",
      "Requirement already satisfied: pyarrow>=4.0 in /opt/anaconda3/lib/python3.7/site-packages (from streamlit) (10.0.0)\n",
      "Requirement already satisfied: blinker>=1.0.0 in /opt/anaconda3/lib/python3.7/site-packages (from streamlit) (1.5)\n",
      "Requirement already satisfied: pydeck>=0.1.dev5 in /opt/anaconda3/lib/python3.7/site-packages (from streamlit) (0.8.0)\n",
      "Requirement already satisfied: pillow>=6.2.0 in /opt/anaconda3/lib/python3.7/site-packages (from streamlit) (7.0.0)\n",
      "Requirement already satisfied: tornado>=5.0 in /opt/anaconda3/lib/python3.7/site-packages (from streamlit) (6.0.3)\n",
      "Requirement already satisfied: click>=7.0 in /opt/anaconda3/lib/python3.7/site-packages (from streamlit) (7.0)\n",
      "Requirement already satisfied: importlib-metadata>=1.4 in /opt/anaconda3/lib/python3.7/site-packages (from streamlit) (1.5.0)\n",
      "Requirement already satisfied: tzlocal>=1.1 in /opt/anaconda3/lib/python3.7/site-packages (from streamlit) (4.2)\n",
      "Requirement already satisfied: python-dateutil in /opt/anaconda3/lib/python3.7/site-packages (from streamlit) (2.8.1)\n",
      "Requirement already satisfied: rich>=10.11.0 in /opt/anaconda3/lib/python3.7/site-packages (from streamlit) (12.6.0)\n",
      "Requirement already satisfied: pandas>=0.21.0 in /opt/anaconda3/lib/python3.7/site-packages (from streamlit) (1.0.1)\n",
      "Requirement already satisfied: gitpython!=3.1.19 in /opt/anaconda3/lib/python3.7/site-packages (from streamlit) (3.1.29)\n",
      "Requirement already satisfied: protobuf<4,>=3.12 in /opt/anaconda3/lib/python3.7/site-packages (from streamlit) (3.20.3)\n",
      "Requirement already satisfied: pyparsing>=2.0.2 in /opt/anaconda3/lib/python3.7/site-packages (from packaging>=14.1->streamlit) (2.4.6)\n",
      "Requirement already satisfied: six in /opt/anaconda3/lib/python3.7/site-packages (from packaging>=14.1->streamlit) (1.14.0)\n",
      "Requirement already satisfied: certifi>=2017.4.17 in /opt/anaconda3/lib/python3.7/site-packages (from requests>=2.4->streamlit) (2019.11.28)\n",
      "Requirement already satisfied: urllib3!=1.25.0,!=1.25.1,<1.26,>=1.21.1 in /opt/anaconda3/lib/python3.7/site-packages (from requests>=2.4->streamlit) (1.25.8)\n",
      "Requirement already satisfied: chardet<3.1.0,>=3.0.2 in /opt/anaconda3/lib/python3.7/site-packages (from requests>=2.4->streamlit) (3.0.4)\n",
      "Requirement already satisfied: idna<2.9,>=2.5 in /opt/anaconda3/lib/python3.7/site-packages (from requests>=2.4->streamlit) (2.8)\n",
      "Requirement already satisfied: decorator>=3.4.0 in /opt/anaconda3/lib/python3.7/site-packages (from validators>=0.2->streamlit) (4.4.1)\n",
      "Requirement already satisfied: pathtools>=0.1.1 in /opt/anaconda3/lib/python3.7/site-packages (from watchdog; platform_system != \"Darwin\"->streamlit) (0.1.2)\n",
      "Requirement already satisfied: entrypoints in /opt/anaconda3/lib/python3.7/site-packages (from altair>=3.2.0->streamlit) (0.3)\n",
      "Requirement already satisfied: toolz in /opt/anaconda3/lib/python3.7/site-packages (from altair>=3.2.0->streamlit) (0.10.0)\n",
      "Requirement already satisfied: jinja2 in /opt/anaconda3/lib/python3.7/site-packages (from altair>=3.2.0->streamlit) (2.11.1)\n",
      "Requirement already satisfied: jsonschema>=3.0 in /opt/anaconda3/lib/python3.7/site-packages (from altair>=3.2.0->streamlit) (3.2.0)\n",
      "Requirement already satisfied: zipp>=0.5 in /opt/anaconda3/lib/python3.7/site-packages (from importlib-metadata>=1.4->streamlit) (2.2.0)\n",
      "Requirement already satisfied: backports.zoneinfo; python_version < \"3.9\" in /opt/anaconda3/lib/python3.7/site-packages (from tzlocal>=1.1->streamlit) (0.2.1)\n",
      "Requirement already satisfied: pytz-deprecation-shim in /opt/anaconda3/lib/python3.7/site-packages (from tzlocal>=1.1->streamlit) (0.1.0.post0)\n",
      "Requirement already satisfied: commonmark<0.10.0,>=0.9.0 in /opt/anaconda3/lib/python3.7/site-packages (from rich>=10.11.0->streamlit) (0.9.1)\n",
      "Requirement already satisfied: pygments<3.0.0,>=2.6.0 in /opt/anaconda3/lib/python3.7/site-packages (from rich>=10.11.0->streamlit) (2.13.0)\n",
      "Requirement already satisfied: pytz>=2017.2 in /opt/anaconda3/lib/python3.7/site-packages (from pandas>=0.21.0->streamlit) (2019.3)\n",
      "Requirement already satisfied: gitdb<5,>=4.0.1 in /opt/anaconda3/lib/python3.7/site-packages (from gitpython!=3.1.19->streamlit) (4.0.9)\n",
      "Requirement already satisfied: MarkupSafe>=0.23 in /opt/anaconda3/lib/python3.7/site-packages (from jinja2->altair>=3.2.0->streamlit) (1.1.1)\n",
      "Requirement already satisfied: pyrsistent>=0.14.0 in /opt/anaconda3/lib/python3.7/site-packages (from jsonschema>=3.0->altair>=3.2.0->streamlit) (0.15.7)\n",
      "Requirement already satisfied: setuptools in /opt/anaconda3/lib/python3.7/site-packages (from jsonschema>=3.0->altair>=3.2.0->streamlit) (45.2.0.post20200210)\n",
      "Requirement already satisfied: attrs>=17.4.0 in /opt/anaconda3/lib/python3.7/site-packages (from jsonschema>=3.0->altair>=3.2.0->streamlit) (19.3.0)\n",
      "Requirement already satisfied: tzdata; python_version >= \"3.6\" in /opt/anaconda3/lib/python3.7/site-packages (from pytz-deprecation-shim->tzlocal>=1.1->streamlit) (2022.6)\n",
      "Requirement already satisfied: smmap<6,>=3.0.1 in /opt/anaconda3/lib/python3.7/site-packages (from gitdb<5,>=4.0.1->gitpython!=3.1.19->streamlit) (5.0.0)\n",
      "\u001b[33mWARNING: You are using pip version 20.1.1; however, version 22.3.1 is available.\n",
      "You should consider upgrading via the '/opt/anaconda3/bin/python -m pip install --upgrade pip' command.\u001b[0m\n"
     ]
    }
   ],
   "source": [
    "# !pip install streamlit"
   ]
  },
  {
   "cell_type": "code",
   "execution_count": 2,
   "metadata": {},
   "outputs": [],
   "source": [
    "import matplotlib.pyplot as plt\n",
    "import japanize_matplotlib\n",
    "import seaborn as sns\n",
    "import numpy as np\n",
    "import pandas as pd\n",
    "import streamlit as st"
   ]
  },
  {
   "cell_type": "code",
   "execution_count": 3,
   "metadata": {},
   "outputs": [],
   "source": [
    "df1 = pd.read_pickle(\"data/taishi.pkl\")\n",
    "df2 = pd.read_pickle(\"data/bb.pkl\")"
   ]
  },
  {
   "cell_type": "code",
   "execution_count": 20,
   "metadata": {},
   "outputs": [
    {
     "name": "stderr",
     "output_type": "stream",
     "text": [
      "2022-11-20 14:38:55.803 \n",
      "  \u001b[33m\u001b[1mWarning:\u001b[0m to view this Streamlit app on a browser, run it with the following\n",
      "  command:\n",
      "\n",
      "    streamlit run /opt/anaconda3/lib/python3.7/site-packages/ipykernel_launcher.py [ARGUMENTS]\n"
     ]
    }
   ],
   "source": [
    "markdown = \"\"\"\n",
    "### プロ野球選手の年俸のヒストグラム\n",
    "2020年のプロ野球選手の年俸からヒストグラムを作成しました\n",
    "\"\"\"\n",
    "st.write(markdown)"
   ]
  },
  {
   "cell_type": "code",
   "execution_count": 5,
   "metadata": {},
   "outputs": [],
   "source": [
    "df2 = df2[df2[\"年俸\"]!=\"#VALUE!\"]\n",
    "df2 = df2.reset_index(drop=True)"
   ]
  },
  {
   "cell_type": "code",
   "execution_count": 6,
   "metadata": {},
   "outputs": [],
   "source": [
    "df2[\"年俸\"] = df2[\"年俸\"].apply(lambda x:x.replace(\",\",\"\"))"
   ]
  },
  {
   "cell_type": "code",
   "execution_count": 7,
   "metadata": {},
   "outputs": [],
   "source": [
    "df2[\"年俸\"] = df2[\"年俸\"].astype('int')"
   ]
  },
  {
   "cell_type": "code",
   "execution_count": 8,
   "metadata": {},
   "outputs": [],
   "source": [
    "df2[\"年俸\"] = df2[\"年俸\"].apply(lambda x: x/10000)"
   ]
  },
  {
   "cell_type": "code",
   "execution_count": 9,
   "metadata": {},
   "outputs": [
    {
     "name": "stdout",
     "output_type": "stream",
     "text": [
      "[    0.  1000.  2000.  3000.  4000.  5000.  6000.  7000.  8000.  9000.\n",
      " 10000. 11000. 12000. 13000. 14000. 15000. 16000. 17000. 18000. 19000.\n",
      " 20000. 21000. 22000. 23000. 24000. 25000. 26000. 27000. 28000. 29000.\n",
      " 30000. 31000. 32000. 33000. 34000. 35000. 36000. 37000. 38000. 39000.\n",
      " 40000. 41000. 42000. 43000. 44000. 45000. 46000. 47000. 48000. 49000.\n",
      " 50000. 51000. 52000. 53000. 54000. 55000. 56000. 57000. 58000. 59000.\n",
      " 60000. 61000. 62000. 63000. 64000. 65000. 66000. 67000. 68000. 69000.\n",
      " 70000. 71000. 72000. 73000. 74000. 75000. 76000. 77000. 78000. 79000.\n",
      " 80000. 81000. 82000. 83000. 84000. 85000. 86000. 87000. 88000. 89000.\n",
      " 90000.]\n"
     ]
    }
   ],
   "source": [
    "bins = np.linspace(0, df2[\"年俸\"].max(), 91)"
   ]
  },
  {
   "cell_type": "code",
   "execution_count": 10,
   "metadata": {},
   "outputs": [
    {
     "data": {
      "text/plain": [
       "(-0.001, 1000.0]      412\n",
       "(1000.0, 2000.0]      180\n",
       "(2000.0, 3000.0]       90\n",
       "(3000.0, 4000.0]       38\n",
       "(4000.0, 5000.0]       29\n",
       "                     ... \n",
       "(85000.0, 86000.0]      0\n",
       "(86000.0, 87000.0]      0\n",
       "(87000.0, 88000.0]      0\n",
       "(88000.0, 89000.0]      0\n",
       "(89000.0, 90000.0]      1\n",
       "Name: 年俸, Length: 90, dtype: int64"
      ]
     },
     "execution_count": 10,
     "metadata": {},
     "output_type": "execute_result"
    }
   ],
   "source": [
    "freq = df2[\"年俸\"].value_counts(bins=bins, sort=False)"
   ]
  },
  {
   "cell_type": "code",
   "execution_count": 12,
   "metadata": {},
   "outputs": [
    {
     "name": "stderr",
     "output_type": "stream",
     "text": [
      "2022-11-20 13:37:26.287 INFO    numexpr.utils: Note: NumExpr detected 12 cores but \"NUMEXPR_MAX_THREADS\" not set, so enforcing safe limit of 8.\n",
      "2022-11-20 13:37:26.288 INFO    numexpr.utils: NumExpr defaulting to 8 threads.\n"
     ]
    }
   ],
   "source": [
    "class_value = (bins[:-1] + bins[1:]) / 2  # 階級値\n",
    "rel_freq = freq / df2[\"年俸\"].count()  # 相対度数\n",
    "cum_freq = freq.cumsum()  # 累積度数\n",
    "rel_cum_freq = rel_freq.cumsum()  # 相対累積度数"
   ]
  },
  {
   "cell_type": "code",
   "execution_count": 13,
   "metadata": {},
   "outputs": [],
   "source": [
    "pd.set_option('display.max_rows', 101)"
   ]
  },
  {
   "cell_type": "code",
   "execution_count": 1,
   "metadata": {},
   "outputs": [
    {
     "ename": "NameError",
     "evalue": "name 'pd' is not defined",
     "output_type": "error",
     "traceback": [
      "\u001b[0;31m---------------------------------------------------------------------------\u001b[0m",
      "\u001b[0;31mNameError\u001b[0m                                 Traceback (most recent call last)",
      "\u001b[0;32m<ipython-input-1-c28fb15bafce>\u001b[0m in \u001b[0;36m<module>\u001b[0;34m\u001b[0m\n\u001b[0;32m----> 1\u001b[0;31m dist = pd.DataFrame(\n\u001b[0m\u001b[1;32m      2\u001b[0m     {\n\u001b[1;32m      3\u001b[0m         \u001b[0;34m\"階級値(万円)\"\u001b[0m\u001b[0;34m:\u001b[0m \u001b[0mclass_value\u001b[0m\u001b[0;34m,\u001b[0m\u001b[0;34m\u001b[0m\u001b[0;34m\u001b[0m\u001b[0m\n\u001b[1;32m      4\u001b[0m         \u001b[0;34m\"度数(人数)\"\u001b[0m\u001b[0;34m:\u001b[0m \u001b[0mfreq\u001b[0m\u001b[0;34m,\u001b[0m\u001b[0;34m\u001b[0m\u001b[0;34m\u001b[0m\u001b[0m\n\u001b[1;32m      5\u001b[0m         \u001b[0;34m\"相対度数\"\u001b[0m\u001b[0;34m:\u001b[0m \u001b[0mrel_freq\u001b[0m\u001b[0;34m,\u001b[0m\u001b[0;34m\u001b[0m\u001b[0;34m\u001b[0m\u001b[0m\n",
      "\u001b[0;31mNameError\u001b[0m: name 'pd' is not defined"
     ]
    }
   ],
   "source": [
    "dist = pd.DataFrame(\n",
    "    {\n",
    "        \"階級値(万円)\": class_value,\n",
    "        \"度数(人数)\": freq,\n",
    "        \"相対度数\": rel_freq,\n",
    "        \"累積度数\": cum_freq,\n",
    "        \"相対累積度数\": rel_cum_freq,\n",
    "    },\n",
    "    index=freq.index\n",
    ")\n",
    "st.dataframe(dist)"
   ]
  },
  {
   "cell_type": "code",
   "execution_count": 21,
   "metadata": {},
   "outputs": [
    {
     "name": "stderr",
     "output_type": "stream",
     "text": [
      "2022-11-20 14:40:07.884 No handles with labels found to put in legend.\n"
     ]
    },
    {
     "data": {
      "text/plain": [
       "DeltaGenerator(_root_container=0, _provided_cursor=None, _parent=None, _block_type=None, _form_data=None)"
      ]
     },
     "execution_count": 21,
     "metadata": {},
     "output_type": "execute_result"
    },
    {
     "data": {
      "image/png": "[encoded data removed]",
      "text/plain": [
       "<Figure size 2160x720 with 2 Axes>"
      ]
     },
     "metadata": {
      "needs_background": "light"
     },
     "output_type": "display_data"
    }
   ],
   "source": [
    "fig, ax1 = plt.subplots(figsize=(30, 10))\n",
    "dist.plot.bar(x=\"階級値(万円)\", y=\"度数(人数)\", ax=ax1, width=1, ec=\"k\", lw=2)\n",
    "\n",
    "ax2 = ax1.twinx()\n",
    "ax2.plot(np.arange(len(dist)), dist[\"相対累積度数\"], \"--o\", color=\"k\")\n",
    "ax2.set_ylabel(\"累積相対度数\")\n",
    "ax2.legend()\n",
    "st.pyplot(fig)"
   ]
  },
  {
   "cell_type": "markdown",
   "metadata": {},
   "source": [
    "## ローレンツ曲線"
   ]
  },
  {
   "cell_type": "code",
   "execution_count": 16,
   "metadata": {},
   "outputs": [
    {
     "data": {
      "text/plain": [
       "4323.416666666667"
      ]
     },
     "execution_count": 16,
     "metadata": {},
     "output_type": "execute_result"
    }
   ],
   "source": [
    "df2[\"年俸\"].mean()"
   ]
  },
  {
   "cell_type": "code",
   "execution_count": 17,
   "metadata": {},
   "outputs": [
    {
     "data": {
      "text/plain": [
       "0     500.0\n",
       "1     700.0\n",
       "2    1600.0\n",
       "dtype: float64"
      ]
     },
     "execution_count": 17,
     "metadata": {},
     "output_type": "execute_result"
    }
   ],
   "source": [
    "df2[\"年俸\"].mode()"
   ]
  },
  {
   "cell_type": "markdown",
   "metadata": {},
   "source": [
    "## 共分散"
   ]
  },
  {
   "cell_type": "code",
   "execution_count": 18,
   "metadata": {},
   "outputs": [
    {
     "data": {
      "text/html": [
       "<div>\n",
       "<style scoped>\n",
       "    .dataframe tbody tr th:only-of-type {\n",
       "        vertical-align: middle;\n",
       "    }\n",
       "\n",
       "    .dataframe tbody tr th {\n",
       "        vertical-align: top;\n",
       "    }\n",
       "\n",
       "    .dataframe thead th {\n",
       "        text-align: right;\n",
       "    }\n",
       "</style>\n",
       "<table border=\"1\" class=\"dataframe\">\n",
       "  <thead>\n",
       "    <tr style=\"text-align: right;\">\n",
       "      <th></th>\n",
       "      <th>統率</th>\n",
       "      <th>武勇</th>\n",
       "      <th>知略</th>\n",
       "      <th>内政</th>\n",
       "      <th>外政</th>\n",
       "      <th>戦闘</th>\n",
       "      <th>政治</th>\n",
       "      <th>合計</th>\n",
       "      <th>寿命</th>\n",
       "      <th>野心</th>\n",
       "      <th>父親有無</th>\n",
       "      <th>母親有無</th>\n",
       "      <th>志区分</th>\n",
       "    </tr>\n",
       "  </thead>\n",
       "  <tbody>\n",
       "    <tr>\n",
       "      <th>統率</th>\n",
       "      <td>232.251889</td>\n",
       "      <td>165.230655</td>\n",
       "      <td>125.409947</td>\n",
       "      <td>58.615645</td>\n",
       "      <td>93.242228</td>\n",
       "      <td>397.482544</td>\n",
       "      <td>151.857873</td>\n",
       "      <td>674.750364</td>\n",
       "      <td>9.629711</td>\n",
       "      <td>-0.556402</td>\n",
       "      <td>0.426908</td>\n",
       "      <td>0.149511</td>\n",
       "      <td>0.832946</td>\n",
       "    </tr>\n",
       "    <tr>\n",
       "      <th>武勇</th>\n",
       "      <td>165.230655</td>\n",
       "      <td>228.434036</td>\n",
       "      <td>79.231777</td>\n",
       "      <td>-15.678781</td>\n",
       "      <td>18.937641</td>\n",
       "      <td>393.664691</td>\n",
       "      <td>3.258860</td>\n",
       "      <td>476.155329</td>\n",
       "      <td>4.249117</td>\n",
       "      <td>-3.798908</td>\n",
       "      <td>0.169840</td>\n",
       "      <td>0.069912</td>\n",
       "      <td>0.625525</td>\n",
       "    </tr>\n",
       "    <tr>\n",
       "      <th>知略</th>\n",
       "      <td>125.409947</td>\n",
       "      <td>79.231777</td>\n",
       "      <td>201.996998</td>\n",
       "      <td>120.000469</td>\n",
       "      <td>176.271217</td>\n",
       "      <td>204.641724</td>\n",
       "      <td>296.271686</td>\n",
       "      <td>702.910409</td>\n",
       "      <td>40.083320</td>\n",
       "      <td>3.120678</td>\n",
       "      <td>-0.240918</td>\n",
       "      <td>0.120573</td>\n",
       "      <td>0.706040</td>\n",
       "    </tr>\n",
       "    <tr>\n",
       "      <th>内政</th>\n",
       "      <td>58.615645</td>\n",
       "      <td>-15.678781</td>\n",
       "      <td>120.000469</td>\n",
       "      <td>237.935376</td>\n",
       "      <td>211.373856</td>\n",
       "      <td>42.936865</td>\n",
       "      <td>449.309232</td>\n",
       "      <td>612.246566</td>\n",
       "      <td>40.653353</td>\n",
       "      <td>2.008787</td>\n",
       "      <td>0.635580</td>\n",
       "      <td>0.150248</td>\n",
       "      <td>0.549221</td>\n",
       "    </tr>\n",
       "    <tr>\n",
       "      <th>外政</th>\n",
       "      <td>93.242228</td>\n",
       "      <td>18.937641</td>\n",
       "      <td>176.271217</td>\n",
       "      <td>211.373856</td>\n",
       "      <td>233.563388</td>\n",
       "      <td>112.179869</td>\n",
       "      <td>444.937244</td>\n",
       "      <td>733.388330</td>\n",
       "      <td>46.590258</td>\n",
       "      <td>2.921262</td>\n",
       "      <td>0.223123</td>\n",
       "      <td>0.136564</td>\n",
       "      <td>0.621799</td>\n",
       "    </tr>\n",
       "    <tr>\n",
       "      <th>戦闘</th>\n",
       "      <td>397.482544</td>\n",
       "      <td>393.664691</td>\n",
       "      <td>204.641724</td>\n",
       "      <td>42.936865</td>\n",
       "      <td>112.179869</td>\n",
       "      <td>791.147236</td>\n",
       "      <td>155.116733</td>\n",
       "      <td>1150.905693</td>\n",
       "      <td>13.878828</td>\n",
       "      <td>-4.355310</td>\n",
       "      <td>0.596748</td>\n",
       "      <td>0.219423</td>\n",
       "      <td>1.458471</td>\n",
       "    </tr>\n",
       "    <tr>\n",
       "      <th>政治</th>\n",
       "      <td>151.857873</td>\n",
       "      <td>3.258860</td>\n",
       "      <td>296.271686</td>\n",
       "      <td>449.309232</td>\n",
       "      <td>444.937244</td>\n",
       "      <td>155.116733</td>\n",
       "      <td>894.246476</td>\n",
       "      <td>1345.634896</td>\n",
       "      <td>87.243611</td>\n",
       "      <td>4.930050</td>\n",
       "      <td>0.858703</td>\n",
       "      <td>0.286813</td>\n",
       "      <td>1.171020</td>\n",
       "    </tr>\n",
       "    <tr>\n",
       "      <th>合計</th>\n",
       "      <td>674.750364</td>\n",
       "      <td>476.155329</td>\n",
       "      <td>702.910409</td>\n",
       "      <td>612.246566</td>\n",
       "      <td>733.388330</td>\n",
       "      <td>1150.905693</td>\n",
       "      <td>1345.634896</td>\n",
       "      <td>3199.450997</td>\n",
       "      <td>141.205758</td>\n",
       "      <td>3.695418</td>\n",
       "      <td>1.214533</td>\n",
       "      <td>0.626808</td>\n",
       "      <td>3.335530</td>\n",
       "    </tr>\n",
       "    <tr>\n",
       "      <th>寿命</th>\n",
       "      <td>9.629711</td>\n",
       "      <td>4.249117</td>\n",
       "      <td>40.083320</td>\n",
       "      <td>40.653353</td>\n",
       "      <td>46.590258</td>\n",
       "      <td>13.878828</td>\n",
       "      <td>87.243611</td>\n",
       "      <td>141.205758</td>\n",
       "      <td>271.619779</td>\n",
       "      <td>15.831278</td>\n",
       "      <td>-1.515286</td>\n",
       "      <td>-0.045068</td>\n",
       "      <td>0.023067</td>\n",
       "    </tr>\n",
       "    <tr>\n",
       "      <th>野心</th>\n",
       "      <td>-0.556402</td>\n",
       "      <td>-3.798908</td>\n",
       "      <td>3.120678</td>\n",
       "      <td>2.008787</td>\n",
       "      <td>2.921262</td>\n",
       "      <td>-4.355310</td>\n",
       "      <td>4.930050</td>\n",
       "      <td>3.695418</td>\n",
       "      <td>15.831278</td>\n",
       "      <td>48.743469</td>\n",
       "      <td>-0.032765</td>\n",
       "      <td>-0.002310</td>\n",
       "      <td>0.189622</td>\n",
       "    </tr>\n",
       "    <tr>\n",
       "      <th>父親有無</th>\n",
       "      <td>0.426908</td>\n",
       "      <td>0.169840</td>\n",
       "      <td>-0.240918</td>\n",
       "      <td>0.635580</td>\n",
       "      <td>0.223123</td>\n",
       "      <td>0.596748</td>\n",
       "      <td>0.858703</td>\n",
       "      <td>1.214533</td>\n",
       "      <td>-1.515286</td>\n",
       "      <td>-0.032765</td>\n",
       "      <td>0.250082</td>\n",
       "      <td>0.002331</td>\n",
       "      <td>0.008636</td>\n",
       "    </tr>\n",
       "    <tr>\n",
       "      <th>母親有無</th>\n",
       "      <td>0.149511</td>\n",
       "      <td>0.069912</td>\n",
       "      <td>0.120573</td>\n",
       "      <td>0.150248</td>\n",
       "      <td>0.136564</td>\n",
       "      <td>0.219423</td>\n",
       "      <td>0.286813</td>\n",
       "      <td>0.626808</td>\n",
       "      <td>-0.045068</td>\n",
       "      <td>-0.002310</td>\n",
       "      <td>0.002331</td>\n",
       "      <td>0.007272</td>\n",
       "      <td>0.002078</td>\n",
       "    </tr>\n",
       "    <tr>\n",
       "      <th>志区分</th>\n",
       "      <td>0.832946</td>\n",
       "      <td>0.625525</td>\n",
       "      <td>0.706040</td>\n",
       "      <td>0.549221</td>\n",
       "      <td>0.621799</td>\n",
       "      <td>1.458471</td>\n",
       "      <td>1.171020</td>\n",
       "      <td>3.335530</td>\n",
       "      <td>0.023067</td>\n",
       "      <td>0.189622</td>\n",
       "      <td>0.008636</td>\n",
       "      <td>0.002078</td>\n",
       "      <td>0.028014</td>\n",
       "    </tr>\n",
       "  </tbody>\n",
       "</table>\n",
       "</div>"
      ],
      "text/plain": [
       "              統率          武勇          知略          内政          外政           戦闘  \\\n",
       "統率    232.251889  165.230655  125.409947   58.615645   93.242228   397.482544   \n",
       "武勇    165.230655  228.434036   79.231777  -15.678781   18.937641   393.664691   \n",
       "知略    125.409947   79.231777  201.996998  120.000469  176.271217   204.641724   \n",
       "内政     58.615645  -15.678781  120.000469  237.935376  211.373856    42.936865   \n",
       "外政     93.242228   18.937641  176.271217  211.373856  233.563388   112.179869   \n",
       "戦闘    397.482544  393.664691  204.641724   42.936865  112.179869   791.147236   \n",
       "政治    151.857873    3.258860  296.271686  449.309232  444.937244   155.116733   \n",
       "合計    674.750364  476.155329  702.910409  612.246566  733.388330  1150.905693   \n",
       "寿命      9.629711    4.249117   40.083320   40.653353   46.590258    13.878828   \n",
       "野心     -0.556402   -3.798908    3.120678    2.008787    2.921262    -4.355310   \n",
       "父親有無    0.426908    0.169840   -0.240918    0.635580    0.223123     0.596748   \n",
       "母親有無    0.149511    0.069912    0.120573    0.150248    0.136564     0.219423   \n",
       "志区分     0.832946    0.625525    0.706040    0.549221    0.621799     1.458471   \n",
       "\n",
       "               政治           合計          寿命         野心      父親有無      母親有無  \\\n",
       "統率     151.857873   674.750364    9.629711  -0.556402  0.426908  0.149511   \n",
       "武勇       3.258860   476.155329    4.249117  -3.798908  0.169840  0.069912   \n",
       "知略     296.271686   702.910409   40.083320   3.120678 -0.240918  0.120573   \n",
       "内政     449.309232   612.246566   40.653353   2.008787  0.635580  0.150248   \n",
       "外政     444.937244   733.388330   46.590258   2.921262  0.223123  0.136564   \n",
       "戦闘     155.116733  1150.905693   13.878828  -4.355310  0.596748  0.219423   \n",
       "政治     894.246476  1345.634896   87.243611   4.930050  0.858703  0.286813   \n",
       "合計    1345.634896  3199.450997  141.205758   3.695418  1.214533  0.626808   \n",
       "寿命      87.243611   141.205758  271.619779  15.831278 -1.515286 -0.045068   \n",
       "野心       4.930050     3.695418   15.831278  48.743469 -0.032765 -0.002310   \n",
       "父親有無     0.858703     1.214533   -1.515286  -0.032765  0.250082  0.002331   \n",
       "母親有無     0.286813     0.626808   -0.045068  -0.002310  0.002331  0.007272   \n",
       "志区分      1.171020     3.335530    0.023067   0.189622  0.008636  0.002078   \n",
       "\n",
       "           志区分  \n",
       "統率    0.832946  \n",
       "武勇    0.625525  \n",
       "知略    0.706040  \n",
       "内政    0.549221  \n",
       "外政    0.621799  \n",
       "戦闘    1.458471  \n",
       "政治    1.171020  \n",
       "合計    3.335530  \n",
       "寿命    0.023067  \n",
       "野心    0.189622  \n",
       "父親有無  0.008636  \n",
       "母親有無  0.002078  \n",
       "志区分   0.028014  "
      ]
     },
     "execution_count": 18,
     "metadata": {},
     "output_type": "execute_result"
    }
   ],
   "source": [
    "df1.cov()"
   ]
  }
 ],
 "metadata": {
  "kernelspec": {
   "display_name": "Python 3",
   "language": "python",
   "name": "python3"
  },
  "language_info": {
   "codemirror_mode": {
    "name": "ipython",
    "version": 3
   },
   "file_extension": ".py",
   "mimetype": "text/x-python",
   "name": "python",
   "nbconvert_exporter": "python",
   "pygments_lexer": "ipython3",
   "version": "3.7.6"
  }
 },
 "nbformat": 4,
 "nbformat_minor": 4
}
